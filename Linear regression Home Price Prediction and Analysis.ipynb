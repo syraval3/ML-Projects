{
 "cells": [
  {
   "cell_type": "code",
   "execution_count": 35,
   "id": "63051642",
   "metadata": {},
   "outputs": [],
   "source": [
    "import pandas as pd"
   ]
  },
  {
   "cell_type": "code",
   "execution_count": 36,
   "id": "c4837446",
   "metadata": {},
   "outputs": [
    {
     "name": "stdout",
     "output_type": "stream",
     "text": [
      "C:\\Users\\hp\\Downloads\n"
     ]
    }
   ],
   "source": [
    "cd C:\\Users\\hp\\Downloads"
   ]
  },
  {
   "cell_type": "code",
   "execution_count": 37,
   "id": "740ac910",
   "metadata": {},
   "outputs": [],
   "source": [
    "data=pd.read_csv(r\"ML Linear Regression Home Price Prediction & Analysis Project  Resource16932049360.csv\")"
   ]
  },
  {
   "cell_type": "code",
   "execution_count": 38,
   "id": "944d492c",
   "metadata": {},
   "outputs": [
    {
     "data": {
      "text/html": [
       "<div>\n",
       "<style scoped>\n",
       "    .dataframe tbody tr th:only-of-type {\n",
       "        vertical-align: middle;\n",
       "    }\n",
       "\n",
       "    .dataframe tbody tr th {\n",
       "        vertical-align: top;\n",
       "    }\n",
       "\n",
       "    .dataframe thead th {\n",
       "        text-align: right;\n",
       "    }\n",
       "</style>\n",
       "<table border=\"1\" class=\"dataframe\">\n",
       "  <thead>\n",
       "    <tr style=\"text-align: right;\">\n",
       "      <th></th>\n",
       "      <th>Suburb</th>\n",
       "      <th>Address</th>\n",
       "      <th>Rooms</th>\n",
       "      <th>Type</th>\n",
       "      <th>Price</th>\n",
       "      <th>Method</th>\n",
       "      <th>SellerG</th>\n",
       "      <th>Date</th>\n",
       "      <th>Distance</th>\n",
       "      <th>Postcode</th>\n",
       "      <th>...</th>\n",
       "      <th>Bathroom</th>\n",
       "      <th>Car</th>\n",
       "      <th>Landsize</th>\n",
       "      <th>BuildingArea</th>\n",
       "      <th>YearBuilt</th>\n",
       "      <th>CouncilArea</th>\n",
       "      <th>Lattitude</th>\n",
       "      <th>Longtitude</th>\n",
       "      <th>Regionname</th>\n",
       "      <th>Propertycount</th>\n",
       "    </tr>\n",
       "  </thead>\n",
       "  <tbody>\n",
       "    <tr>\n",
       "      <th>0</th>\n",
       "      <td>Abbotsford</td>\n",
       "      <td>68 Studley St</td>\n",
       "      <td>2</td>\n",
       "      <td>h</td>\n",
       "      <td>NaN</td>\n",
       "      <td>SS</td>\n",
       "      <td>Jellis</td>\n",
       "      <td>03/09/2016</td>\n",
       "      <td>2.5</td>\n",
       "      <td>3067.0</td>\n",
       "      <td>...</td>\n",
       "      <td>1.0</td>\n",
       "      <td>1.0</td>\n",
       "      <td>126.0</td>\n",
       "      <td>NaN</td>\n",
       "      <td>NaN</td>\n",
       "      <td>Yarra City Council</td>\n",
       "      <td>-37.80140</td>\n",
       "      <td>144.99580</td>\n",
       "      <td>Northern Metropolitan</td>\n",
       "      <td>4019.0</td>\n",
       "    </tr>\n",
       "    <tr>\n",
       "      <th>1</th>\n",
       "      <td>Abbotsford</td>\n",
       "      <td>85 Turner St</td>\n",
       "      <td>2</td>\n",
       "      <td>h</td>\n",
       "      <td>1480000.0</td>\n",
       "      <td>S</td>\n",
       "      <td>Biggin</td>\n",
       "      <td>03/12/2016</td>\n",
       "      <td>2.5</td>\n",
       "      <td>3067.0</td>\n",
       "      <td>...</td>\n",
       "      <td>1.0</td>\n",
       "      <td>1.0</td>\n",
       "      <td>202.0</td>\n",
       "      <td>NaN</td>\n",
       "      <td>NaN</td>\n",
       "      <td>Yarra City Council</td>\n",
       "      <td>-37.79960</td>\n",
       "      <td>144.99840</td>\n",
       "      <td>Northern Metropolitan</td>\n",
       "      <td>4019.0</td>\n",
       "    </tr>\n",
       "    <tr>\n",
       "      <th>2</th>\n",
       "      <td>Abbotsford</td>\n",
       "      <td>25 Bloomburg St</td>\n",
       "      <td>2</td>\n",
       "      <td>h</td>\n",
       "      <td>1035000.0</td>\n",
       "      <td>S</td>\n",
       "      <td>Biggin</td>\n",
       "      <td>04/02/2016</td>\n",
       "      <td>2.5</td>\n",
       "      <td>3067.0</td>\n",
       "      <td>...</td>\n",
       "      <td>1.0</td>\n",
       "      <td>0.0</td>\n",
       "      <td>156.0</td>\n",
       "      <td>79.0</td>\n",
       "      <td>1900.0</td>\n",
       "      <td>Yarra City Council</td>\n",
       "      <td>-37.80790</td>\n",
       "      <td>144.99340</td>\n",
       "      <td>Northern Metropolitan</td>\n",
       "      <td>4019.0</td>\n",
       "    </tr>\n",
       "    <tr>\n",
       "      <th>3</th>\n",
       "      <td>Abbotsford</td>\n",
       "      <td>18/659 Victoria St</td>\n",
       "      <td>3</td>\n",
       "      <td>u</td>\n",
       "      <td>NaN</td>\n",
       "      <td>VB</td>\n",
       "      <td>Rounds</td>\n",
       "      <td>04/02/2016</td>\n",
       "      <td>2.5</td>\n",
       "      <td>3067.0</td>\n",
       "      <td>...</td>\n",
       "      <td>2.0</td>\n",
       "      <td>1.0</td>\n",
       "      <td>0.0</td>\n",
       "      <td>NaN</td>\n",
       "      <td>NaN</td>\n",
       "      <td>Yarra City Council</td>\n",
       "      <td>-37.81140</td>\n",
       "      <td>145.01160</td>\n",
       "      <td>Northern Metropolitan</td>\n",
       "      <td>4019.0</td>\n",
       "    </tr>\n",
       "    <tr>\n",
       "      <th>4</th>\n",
       "      <td>Abbotsford</td>\n",
       "      <td>5 Charles St</td>\n",
       "      <td>3</td>\n",
       "      <td>h</td>\n",
       "      <td>1465000.0</td>\n",
       "      <td>SP</td>\n",
       "      <td>Biggin</td>\n",
       "      <td>04/03/2017</td>\n",
       "      <td>2.5</td>\n",
       "      <td>3067.0</td>\n",
       "      <td>...</td>\n",
       "      <td>2.0</td>\n",
       "      <td>0.0</td>\n",
       "      <td>134.0</td>\n",
       "      <td>150.0</td>\n",
       "      <td>1900.0</td>\n",
       "      <td>Yarra City Council</td>\n",
       "      <td>-37.80930</td>\n",
       "      <td>144.99440</td>\n",
       "      <td>Northern Metropolitan</td>\n",
       "      <td>4019.0</td>\n",
       "    </tr>\n",
       "    <tr>\n",
       "      <th>...</th>\n",
       "      <td>...</td>\n",
       "      <td>...</td>\n",
       "      <td>...</td>\n",
       "      <td>...</td>\n",
       "      <td>...</td>\n",
       "      <td>...</td>\n",
       "      <td>...</td>\n",
       "      <td>...</td>\n",
       "      <td>...</td>\n",
       "      <td>...</td>\n",
       "      <td>...</td>\n",
       "      <td>...</td>\n",
       "      <td>...</td>\n",
       "      <td>...</td>\n",
       "      <td>...</td>\n",
       "      <td>...</td>\n",
       "      <td>...</td>\n",
       "      <td>...</td>\n",
       "      <td>...</td>\n",
       "      <td>...</td>\n",
       "      <td>...</td>\n",
       "    </tr>\n",
       "    <tr>\n",
       "      <th>34852</th>\n",
       "      <td>Yarraville</td>\n",
       "      <td>13 Burns St</td>\n",
       "      <td>4</td>\n",
       "      <td>h</td>\n",
       "      <td>1480000.0</td>\n",
       "      <td>PI</td>\n",
       "      <td>Jas</td>\n",
       "      <td>24/02/2018</td>\n",
       "      <td>6.3</td>\n",
       "      <td>3013.0</td>\n",
       "      <td>...</td>\n",
       "      <td>1.0</td>\n",
       "      <td>3.0</td>\n",
       "      <td>593.0</td>\n",
       "      <td>NaN</td>\n",
       "      <td>NaN</td>\n",
       "      <td>Maribyrnong City Council</td>\n",
       "      <td>-37.81053</td>\n",
       "      <td>144.88467</td>\n",
       "      <td>Western Metropolitan</td>\n",
       "      <td>6543.0</td>\n",
       "    </tr>\n",
       "    <tr>\n",
       "      <th>34853</th>\n",
       "      <td>Yarraville</td>\n",
       "      <td>29A Murray St</td>\n",
       "      <td>2</td>\n",
       "      <td>h</td>\n",
       "      <td>888000.0</td>\n",
       "      <td>SP</td>\n",
       "      <td>Sweeney</td>\n",
       "      <td>24/02/2018</td>\n",
       "      <td>6.3</td>\n",
       "      <td>3013.0</td>\n",
       "      <td>...</td>\n",
       "      <td>2.0</td>\n",
       "      <td>1.0</td>\n",
       "      <td>98.0</td>\n",
       "      <td>104.0</td>\n",
       "      <td>2018.0</td>\n",
       "      <td>Maribyrnong City Council</td>\n",
       "      <td>-37.81551</td>\n",
       "      <td>144.88826</td>\n",
       "      <td>Western Metropolitan</td>\n",
       "      <td>6543.0</td>\n",
       "    </tr>\n",
       "    <tr>\n",
       "      <th>34854</th>\n",
       "      <td>Yarraville</td>\n",
       "      <td>147A Severn St</td>\n",
       "      <td>2</td>\n",
       "      <td>t</td>\n",
       "      <td>705000.0</td>\n",
       "      <td>S</td>\n",
       "      <td>Jas</td>\n",
       "      <td>24/02/2018</td>\n",
       "      <td>6.3</td>\n",
       "      <td>3013.0</td>\n",
       "      <td>...</td>\n",
       "      <td>1.0</td>\n",
       "      <td>2.0</td>\n",
       "      <td>220.0</td>\n",
       "      <td>120.0</td>\n",
       "      <td>2000.0</td>\n",
       "      <td>Maribyrnong City Council</td>\n",
       "      <td>-37.82286</td>\n",
       "      <td>144.87856</td>\n",
       "      <td>Western Metropolitan</td>\n",
       "      <td>6543.0</td>\n",
       "    </tr>\n",
       "    <tr>\n",
       "      <th>34855</th>\n",
       "      <td>Yarraville</td>\n",
       "      <td>12/37 Stephen St</td>\n",
       "      <td>3</td>\n",
       "      <td>h</td>\n",
       "      <td>1140000.0</td>\n",
       "      <td>SP</td>\n",
       "      <td>hockingstuart</td>\n",
       "      <td>24/02/2018</td>\n",
       "      <td>6.3</td>\n",
       "      <td>3013.0</td>\n",
       "      <td>...</td>\n",
       "      <td>NaN</td>\n",
       "      <td>NaN</td>\n",
       "      <td>NaN</td>\n",
       "      <td>NaN</td>\n",
       "      <td>NaN</td>\n",
       "      <td>Maribyrnong City Council</td>\n",
       "      <td>NaN</td>\n",
       "      <td>NaN</td>\n",
       "      <td>Western Metropolitan</td>\n",
       "      <td>6543.0</td>\n",
       "    </tr>\n",
       "    <tr>\n",
       "      <th>34856</th>\n",
       "      <td>Yarraville</td>\n",
       "      <td>3 Tarrengower St</td>\n",
       "      <td>2</td>\n",
       "      <td>h</td>\n",
       "      <td>1020000.0</td>\n",
       "      <td>PI</td>\n",
       "      <td>RW</td>\n",
       "      <td>24/02/2018</td>\n",
       "      <td>6.3</td>\n",
       "      <td>3013.0</td>\n",
       "      <td>...</td>\n",
       "      <td>1.0</td>\n",
       "      <td>0.0</td>\n",
       "      <td>250.0</td>\n",
       "      <td>103.0</td>\n",
       "      <td>1930.0</td>\n",
       "      <td>Maribyrnong City Council</td>\n",
       "      <td>-37.81810</td>\n",
       "      <td>144.89351</td>\n",
       "      <td>Western Metropolitan</td>\n",
       "      <td>6543.0</td>\n",
       "    </tr>\n",
       "  </tbody>\n",
       "</table>\n",
       "<p>34857 rows × 21 columns</p>\n",
       "</div>"
      ],
      "text/plain": [
       "           Suburb             Address  Rooms Type      Price Method  \\\n",
       "0      Abbotsford       68 Studley St      2    h        NaN     SS   \n",
       "1      Abbotsford        85 Turner St      2    h  1480000.0      S   \n",
       "2      Abbotsford     25 Bloomburg St      2    h  1035000.0      S   \n",
       "3      Abbotsford  18/659 Victoria St      3    u        NaN     VB   \n",
       "4      Abbotsford        5 Charles St      3    h  1465000.0     SP   \n",
       "...           ...                 ...    ...  ...        ...    ...   \n",
       "34852  Yarraville         13 Burns St      4    h  1480000.0     PI   \n",
       "34853  Yarraville       29A Murray St      2    h   888000.0     SP   \n",
       "34854  Yarraville      147A Severn St      2    t   705000.0      S   \n",
       "34855  Yarraville    12/37 Stephen St      3    h  1140000.0     SP   \n",
       "34856  Yarraville    3 Tarrengower St      2    h  1020000.0     PI   \n",
       "\n",
       "             SellerG        Date  Distance  Postcode  ...  Bathroom  Car  \\\n",
       "0             Jellis  03/09/2016       2.5    3067.0  ...       1.0  1.0   \n",
       "1             Biggin  03/12/2016       2.5    3067.0  ...       1.0  1.0   \n",
       "2             Biggin  04/02/2016       2.5    3067.0  ...       1.0  0.0   \n",
       "3             Rounds  04/02/2016       2.5    3067.0  ...       2.0  1.0   \n",
       "4             Biggin  04/03/2017       2.5    3067.0  ...       2.0  0.0   \n",
       "...              ...         ...       ...       ...  ...       ...  ...   \n",
       "34852            Jas  24/02/2018       6.3    3013.0  ...       1.0  3.0   \n",
       "34853        Sweeney  24/02/2018       6.3    3013.0  ...       2.0  1.0   \n",
       "34854            Jas  24/02/2018       6.3    3013.0  ...       1.0  2.0   \n",
       "34855  hockingstuart  24/02/2018       6.3    3013.0  ...       NaN  NaN   \n",
       "34856             RW  24/02/2018       6.3    3013.0  ...       1.0  0.0   \n",
       "\n",
       "       Landsize  BuildingArea  YearBuilt               CouncilArea Lattitude  \\\n",
       "0         126.0           NaN        NaN        Yarra City Council -37.80140   \n",
       "1         202.0           NaN        NaN        Yarra City Council -37.79960   \n",
       "2         156.0          79.0     1900.0        Yarra City Council -37.80790   \n",
       "3           0.0           NaN        NaN        Yarra City Council -37.81140   \n",
       "4         134.0         150.0     1900.0        Yarra City Council -37.80930   \n",
       "...         ...           ...        ...                       ...       ...   \n",
       "34852     593.0           NaN        NaN  Maribyrnong City Council -37.81053   \n",
       "34853      98.0         104.0     2018.0  Maribyrnong City Council -37.81551   \n",
       "34854     220.0         120.0     2000.0  Maribyrnong City Council -37.82286   \n",
       "34855       NaN           NaN        NaN  Maribyrnong City Council       NaN   \n",
       "34856     250.0         103.0     1930.0  Maribyrnong City Council -37.81810   \n",
       "\n",
       "       Longtitude             Regionname Propertycount  \n",
       "0       144.99580  Northern Metropolitan        4019.0  \n",
       "1       144.99840  Northern Metropolitan        4019.0  \n",
       "2       144.99340  Northern Metropolitan        4019.0  \n",
       "3       145.01160  Northern Metropolitan        4019.0  \n",
       "4       144.99440  Northern Metropolitan        4019.0  \n",
       "...           ...                    ...           ...  \n",
       "34852   144.88467   Western Metropolitan        6543.0  \n",
       "34853   144.88826   Western Metropolitan        6543.0  \n",
       "34854   144.87856   Western Metropolitan        6543.0  \n",
       "34855         NaN   Western Metropolitan        6543.0  \n",
       "34856   144.89351   Western Metropolitan        6543.0  \n",
       "\n",
       "[34857 rows x 21 columns]"
      ]
     },
     "execution_count": 38,
     "metadata": {},
     "output_type": "execute_result"
    }
   ],
   "source": [
    "data"
   ]
  },
  {
   "cell_type": "markdown",
   "id": "478d4184",
   "metadata": {},
   "source": [
    "### Q. Print all the column names "
   ]
  },
  {
   "cell_type": "code",
   "execution_count": 39,
   "id": "77562a96",
   "metadata": {},
   "outputs": [
    {
     "data": {
      "text/plain": [
       "Index(['Suburb', 'Address', 'Rooms', 'Type', 'Price', 'Method', 'SellerG',\n",
       "       'Date', 'Distance', 'Postcode', 'Bedroom2', 'Bathroom', 'Car',\n",
       "       'Landsize', 'BuildingArea', 'YearBuilt', 'CouncilArea', 'Lattitude',\n",
       "       'Longtitude', 'Regionname', 'Propertycount'],\n",
       "      dtype='object')"
      ]
     },
     "execution_count": 39,
     "metadata": {},
     "output_type": "execute_result"
    }
   ],
   "source": [
    "data.columns"
   ]
  },
  {
   "cell_type": "markdown",
   "id": "dcecc792",
   "metadata": {},
   "source": [
    "### Q.  Describe the data "
   ]
  },
  {
   "cell_type": "code",
   "execution_count": 40,
   "id": "079c3456",
   "metadata": {},
   "outputs": [
    {
     "data": {
      "text/html": [
       "<div>\n",
       "<style scoped>\n",
       "    .dataframe tbody tr th:only-of-type {\n",
       "        vertical-align: middle;\n",
       "    }\n",
       "\n",
       "    .dataframe tbody tr th {\n",
       "        vertical-align: top;\n",
       "    }\n",
       "\n",
       "    .dataframe thead th {\n",
       "        text-align: right;\n",
       "    }\n",
       "</style>\n",
       "<table border=\"1\" class=\"dataframe\">\n",
       "  <thead>\n",
       "    <tr style=\"text-align: right;\">\n",
       "      <th></th>\n",
       "      <th>Rooms</th>\n",
       "      <th>Price</th>\n",
       "      <th>Distance</th>\n",
       "      <th>Postcode</th>\n",
       "      <th>Bedroom2</th>\n",
       "      <th>Bathroom</th>\n",
       "      <th>Car</th>\n",
       "      <th>Landsize</th>\n",
       "      <th>BuildingArea</th>\n",
       "      <th>YearBuilt</th>\n",
       "      <th>Lattitude</th>\n",
       "      <th>Longtitude</th>\n",
       "      <th>Propertycount</th>\n",
       "    </tr>\n",
       "  </thead>\n",
       "  <tbody>\n",
       "    <tr>\n",
       "      <th>count</th>\n",
       "      <td>34857.000000</td>\n",
       "      <td>2.724700e+04</td>\n",
       "      <td>34856.000000</td>\n",
       "      <td>34856.000000</td>\n",
       "      <td>26640.000000</td>\n",
       "      <td>26631.000000</td>\n",
       "      <td>26129.000000</td>\n",
       "      <td>23047.000000</td>\n",
       "      <td>13742.00000</td>\n",
       "      <td>15551.000000</td>\n",
       "      <td>26881.000000</td>\n",
       "      <td>26881.000000</td>\n",
       "      <td>34854.000000</td>\n",
       "    </tr>\n",
       "    <tr>\n",
       "      <th>mean</th>\n",
       "      <td>3.031012</td>\n",
       "      <td>1.050173e+06</td>\n",
       "      <td>11.184929</td>\n",
       "      <td>3116.062859</td>\n",
       "      <td>3.084647</td>\n",
       "      <td>1.624798</td>\n",
       "      <td>1.728845</td>\n",
       "      <td>593.598993</td>\n",
       "      <td>160.25640</td>\n",
       "      <td>1965.289885</td>\n",
       "      <td>-37.810634</td>\n",
       "      <td>145.001851</td>\n",
       "      <td>7572.888306</td>\n",
       "    </tr>\n",
       "    <tr>\n",
       "      <th>std</th>\n",
       "      <td>0.969933</td>\n",
       "      <td>6.414671e+05</td>\n",
       "      <td>6.788892</td>\n",
       "      <td>109.023903</td>\n",
       "      <td>0.980690</td>\n",
       "      <td>0.724212</td>\n",
       "      <td>1.010771</td>\n",
       "      <td>3398.841946</td>\n",
       "      <td>401.26706</td>\n",
       "      <td>37.328178</td>\n",
       "      <td>0.090279</td>\n",
       "      <td>0.120169</td>\n",
       "      <td>4428.090313</td>\n",
       "    </tr>\n",
       "    <tr>\n",
       "      <th>min</th>\n",
       "      <td>1.000000</td>\n",
       "      <td>8.500000e+04</td>\n",
       "      <td>0.000000</td>\n",
       "      <td>3000.000000</td>\n",
       "      <td>0.000000</td>\n",
       "      <td>0.000000</td>\n",
       "      <td>0.000000</td>\n",
       "      <td>0.000000</td>\n",
       "      <td>0.00000</td>\n",
       "      <td>1196.000000</td>\n",
       "      <td>-38.190430</td>\n",
       "      <td>144.423790</td>\n",
       "      <td>83.000000</td>\n",
       "    </tr>\n",
       "    <tr>\n",
       "      <th>25%</th>\n",
       "      <td>2.000000</td>\n",
       "      <td>6.350000e+05</td>\n",
       "      <td>6.400000</td>\n",
       "      <td>3051.000000</td>\n",
       "      <td>2.000000</td>\n",
       "      <td>1.000000</td>\n",
       "      <td>1.000000</td>\n",
       "      <td>224.000000</td>\n",
       "      <td>102.00000</td>\n",
       "      <td>1940.000000</td>\n",
       "      <td>-37.862950</td>\n",
       "      <td>144.933500</td>\n",
       "      <td>4385.000000</td>\n",
       "    </tr>\n",
       "    <tr>\n",
       "      <th>50%</th>\n",
       "      <td>3.000000</td>\n",
       "      <td>8.700000e+05</td>\n",
       "      <td>10.300000</td>\n",
       "      <td>3103.000000</td>\n",
       "      <td>3.000000</td>\n",
       "      <td>2.000000</td>\n",
       "      <td>2.000000</td>\n",
       "      <td>521.000000</td>\n",
       "      <td>136.00000</td>\n",
       "      <td>1970.000000</td>\n",
       "      <td>-37.807600</td>\n",
       "      <td>145.007800</td>\n",
       "      <td>6763.000000</td>\n",
       "    </tr>\n",
       "    <tr>\n",
       "      <th>75%</th>\n",
       "      <td>4.000000</td>\n",
       "      <td>1.295000e+06</td>\n",
       "      <td>14.000000</td>\n",
       "      <td>3156.000000</td>\n",
       "      <td>4.000000</td>\n",
       "      <td>2.000000</td>\n",
       "      <td>2.000000</td>\n",
       "      <td>670.000000</td>\n",
       "      <td>188.00000</td>\n",
       "      <td>2000.000000</td>\n",
       "      <td>-37.754100</td>\n",
       "      <td>145.071900</td>\n",
       "      <td>10412.000000</td>\n",
       "    </tr>\n",
       "    <tr>\n",
       "      <th>max</th>\n",
       "      <td>16.000000</td>\n",
       "      <td>1.120000e+07</td>\n",
       "      <td>48.100000</td>\n",
       "      <td>3978.000000</td>\n",
       "      <td>30.000000</td>\n",
       "      <td>12.000000</td>\n",
       "      <td>26.000000</td>\n",
       "      <td>433014.000000</td>\n",
       "      <td>44515.00000</td>\n",
       "      <td>2106.000000</td>\n",
       "      <td>-37.390200</td>\n",
       "      <td>145.526350</td>\n",
       "      <td>21650.000000</td>\n",
       "    </tr>\n",
       "  </tbody>\n",
       "</table>\n",
       "</div>"
      ],
      "text/plain": [
       "              Rooms         Price      Distance      Postcode      Bedroom2  \\\n",
       "count  34857.000000  2.724700e+04  34856.000000  34856.000000  26640.000000   \n",
       "mean       3.031012  1.050173e+06     11.184929   3116.062859      3.084647   \n",
       "std        0.969933  6.414671e+05      6.788892    109.023903      0.980690   \n",
       "min        1.000000  8.500000e+04      0.000000   3000.000000      0.000000   \n",
       "25%        2.000000  6.350000e+05      6.400000   3051.000000      2.000000   \n",
       "50%        3.000000  8.700000e+05     10.300000   3103.000000      3.000000   \n",
       "75%        4.000000  1.295000e+06     14.000000   3156.000000      4.000000   \n",
       "max       16.000000  1.120000e+07     48.100000   3978.000000     30.000000   \n",
       "\n",
       "           Bathroom           Car       Landsize  BuildingArea     YearBuilt  \\\n",
       "count  26631.000000  26129.000000   23047.000000   13742.00000  15551.000000   \n",
       "mean       1.624798      1.728845     593.598993     160.25640   1965.289885   \n",
       "std        0.724212      1.010771    3398.841946     401.26706     37.328178   \n",
       "min        0.000000      0.000000       0.000000       0.00000   1196.000000   \n",
       "25%        1.000000      1.000000     224.000000     102.00000   1940.000000   \n",
       "50%        2.000000      2.000000     521.000000     136.00000   1970.000000   \n",
       "75%        2.000000      2.000000     670.000000     188.00000   2000.000000   \n",
       "max       12.000000     26.000000  433014.000000   44515.00000   2106.000000   \n",
       "\n",
       "          Lattitude    Longtitude  Propertycount  \n",
       "count  26881.000000  26881.000000   34854.000000  \n",
       "mean     -37.810634    145.001851    7572.888306  \n",
       "std        0.090279      0.120169    4428.090313  \n",
       "min      -38.190430    144.423790      83.000000  \n",
       "25%      -37.862950    144.933500    4385.000000  \n",
       "50%      -37.807600    145.007800    6763.000000  \n",
       "75%      -37.754100    145.071900   10412.000000  \n",
       "max      -37.390200    145.526350   21650.000000  "
      ]
     },
     "execution_count": 40,
     "metadata": {},
     "output_type": "execute_result"
    }
   ],
   "source": [
    "data.describe()"
   ]
  },
  {
   "cell_type": "markdown",
   "id": "defb1734",
   "metadata": {},
   "source": [
    "### Q. Drop address, date, postcode,YearBuilt, lattitude, longtitude columns"
   ]
  },
  {
   "cell_type": "code",
   "execution_count": 41,
   "id": "daff8380",
   "metadata": {},
   "outputs": [],
   "source": [
    "data.drop([\"Address\",\"Date\",\"Postcode\",\"YearBuilt\",\"Lattitude\",\"Longtitude\"],axis=1,inplace=True)"
   ]
  },
  {
   "cell_type": "markdown",
   "id": "e0c2105f",
   "metadata": {},
   "source": [
    "### Q. Find the count of null value in each column "
   ]
  },
  {
   "cell_type": "code",
   "execution_count": 42,
   "id": "79edfe36",
   "metadata": {
    "scrolled": true
   },
   "outputs": [
    {
     "data": {
      "text/plain": [
       "Suburb               0\n",
       "Rooms                0\n",
       "Type                 0\n",
       "Price             7610\n",
       "Method               0\n",
       "SellerG              0\n",
       "Distance             1\n",
       "Bedroom2          8217\n",
       "Bathroom          8226\n",
       "Car               8728\n",
       "Landsize         11810\n",
       "BuildingArea     21115\n",
       "CouncilArea          3\n",
       "Regionname           3\n",
       "Propertycount        3\n",
       "dtype: int64"
      ]
     },
     "execution_count": 42,
     "metadata": {},
     "output_type": "execute_result"
    }
   ],
   "source": [
    "data.isnull().sum()"
   ]
  },
  {
   "cell_type": "markdown",
   "id": "60c15705",
   "metadata": {},
   "source": [
    "### Q. Fill the null value of Propertycount, Distance, Bedroom2, Bathroom, Car with 0"
   ]
  },
  {
   "cell_type": "code",
   "execution_count": 43,
   "id": "1468fe75",
   "metadata": {},
   "outputs": [],
   "source": [
    "data[['Propertycount', 'Distance', 'Bedroom2', 'Bathroom', 'Car']]=data[['Propertycount', 'Distance', 'Bedroom2', 'Bathroom', 'Car']].fillna(0)"
   ]
  },
  {
   "cell_type": "markdown",
   "id": "16b11a06",
   "metadata": {},
   "source": [
    "### Q. Fill Null value of Landsize and BuildingArea columns with mean"
   ]
  },
  {
   "cell_type": "code",
   "execution_count": 44,
   "id": "4a71fe42",
   "metadata": {},
   "outputs": [],
   "source": [
    "data[[\"Landsize\",\"BuildingArea\"]]=data[[\"Landsize\",\"BuildingArea\"]].fillna(data.Landsize.mean())"
   ]
  },
  {
   "cell_type": "code",
   "execution_count": 45,
   "id": "6ca97d64",
   "metadata": {
    "scrolled": true
   },
   "outputs": [
    {
     "data": {
      "text/plain": [
       "Suburb              0\n",
       "Rooms               0\n",
       "Type                0\n",
       "Price            7610\n",
       "Method              0\n",
       "SellerG             0\n",
       "Distance            0\n",
       "Bedroom2            0\n",
       "Bathroom            0\n",
       "Car                 0\n",
       "Landsize            0\n",
       "BuildingArea        0\n",
       "CouncilArea         3\n",
       "Regionname          3\n",
       "Propertycount       0\n",
       "dtype: int64"
      ]
     },
     "execution_count": 45,
     "metadata": {},
     "output_type": "execute_result"
    }
   ],
   "source": [
    "data.isnull().sum()"
   ]
  },
  {
   "cell_type": "code",
   "execution_count": 46,
   "id": "4aacfb06",
   "metadata": {},
   "outputs": [],
   "source": [
    "data.dropna(inplace=True)"
   ]
  },
  {
   "cell_type": "code",
   "execution_count": 47,
   "id": "c1ee52ea",
   "metadata": {
    "scrolled": true
   },
   "outputs": [
    {
     "data": {
      "text/plain": [
       "(27244, 15)"
      ]
     },
     "execution_count": 47,
     "metadata": {},
     "output_type": "execute_result"
    }
   ],
   "source": [
    "data.shape"
   ]
  },
  {
   "cell_type": "code",
   "execution_count": 48,
   "id": "c071c405",
   "metadata": {},
   "outputs": [
    {
     "name": "stdout",
     "output_type": "stream",
     "text": [
      "<class 'pandas.core.frame.DataFrame'>\n",
      "Index: 27244 entries, 1 to 34856\n",
      "Data columns (total 15 columns):\n",
      " #   Column         Non-Null Count  Dtype  \n",
      "---  ------         --------------  -----  \n",
      " 0   Suburb         27244 non-null  object \n",
      " 1   Rooms          27244 non-null  int64  \n",
      " 2   Type           27244 non-null  object \n",
      " 3   Price          27244 non-null  float64\n",
      " 4   Method         27244 non-null  object \n",
      " 5   SellerG        27244 non-null  object \n",
      " 6   Distance       27244 non-null  float64\n",
      " 7   Bedroom2       27244 non-null  float64\n",
      " 8   Bathroom       27244 non-null  float64\n",
      " 9   Car            27244 non-null  float64\n",
      " 10  Landsize       27244 non-null  float64\n",
      " 11  BuildingArea   27244 non-null  float64\n",
      " 12  CouncilArea    27244 non-null  object \n",
      " 13  Regionname     27244 non-null  object \n",
      " 14  Propertycount  27244 non-null  float64\n",
      "dtypes: float64(8), int64(1), object(6)\n",
      "memory usage: 3.3+ MB\n"
     ]
    }
   ],
   "source": [
    "data.info()"
   ]
  },
  {
   "cell_type": "markdown",
   "id": "b6b9ad18",
   "metadata": {},
   "source": [
    "### Q. Find the unique value in method column "
   ]
  },
  {
   "cell_type": "code",
   "execution_count": 49,
   "id": "6ecaeb56",
   "metadata": {},
   "outputs": [
    {
     "data": {
      "text/plain": [
       "array(['S', 'SP', 'PI', 'VB', 'SA'], dtype=object)"
      ]
     },
     "execution_count": 49,
     "metadata": {},
     "output_type": "execute_result"
    }
   ],
   "source": [
    "data[\"Method\"].unique()"
   ]
  },
  {
   "cell_type": "markdown",
   "id": "bc244daf",
   "metadata": {},
   "source": [
    "### Q. Create a dummy data for categorical data "
   ]
  },
  {
   "cell_type": "code",
   "execution_count": 50,
   "id": "c4eb9838",
   "metadata": {},
   "outputs": [
    {
     "data": {
      "text/plain": [
       "array(['Biggin', 'Nelson', 'Jellis', 'Dingle', 'Purplebricks', 'Greg',\n",
       "       'LITTLE', 'Collins', 'Kay', 'Beller', 'Marshall', 'hockingstuart',\n",
       "       'Brad', 'Maddison', 'Barry', 'Airport', 'Considine', 'Rendina',\n",
       "       'Ray', 'Propertyau', 'McDonald', 'Frank', 'Prof.', 'Harcourts',\n",
       "       'Thomson', 'Buxton', 'RT', \"Sotheby's\", 'Cayzer', 'Chisholm',\n",
       "       'Brace', 'Miles', 'Holland', 'McGrath', 'Love', 'Thomas', 'Barlow',\n",
       "       'Sweeney', 'Village', 'Jas', 'Williams', 'Gunn&Co', 'Burnham',\n",
       "       'Compton', 'FN', 'Hunter', 'Raine&Horne', 'Noel', 'Hodges', 'Gary',\n",
       "       'Fletchers', 'Woodards', 'Raine', 'Alexkarbon', 'Walshe', 'Weda',\n",
       "       'Stockdale', 'Tim', 'AIME', 'Moonee', 'HAR', 'Edward', 'Philip',\n",
       "       'RW', 'North', 'MICM', 'Ascend', 'Christopher', 'Morrison',\n",
       "       'Mandy', 'R&H', 'Fletchers/One', 'Lindellas', 'Appleby', 'Assisi',\n",
       "       'One', 'Owen', 'Parkes', 'C21', \"O'Brien\", 'Bayside', 'Paul',\n",
       "       'hockingstuart/Buxton', 'First', 'Matthew', 'Melbourne',\n",
       "       'Anderson', 'Nick', 'Allens', 'Bells', 'Trimson', 'Douglas',\n",
       "       'Batty', 'GL', 'YPA', \"Tiernan's\", 'J', 'Rodney', 'Joseph',\n",
       "       'Harrington', 'Galldon', 'Chambers', 'Peter', 'Grantham',\n",
       "       'hockingstuart/Advantage', 'Garvey', \"O'Donoghues\", 'Hamilton',\n",
       "       'Bekdon', 'Ross', 'Weast', 'Century', 'Kelly', 'Property',\n",
       "       \"Private/Tiernan's\", 'Australian', 'Bustin', \"Abercromby's\",\n",
       "       'Castran', 'iTRAK', 'Del', 'Nicholson', 'JMRE', 'ASL', 'Re', 'RE',\n",
       "       'Ham', 'Darren', 'Vic', 'Scott', 'Pride', 'Morleys', 'Wilson',\n",
       "       'Buxton/Advantage', 'Whiting', 'Pagan', 'Joe', 'Red', 'Caine',\n",
       "       'Naison', 'Sweeney/Advantage', 'Nguyen', 'Domain', 'Eview',\n",
       "       'Jason', 'Professionals', \"D'Aprano\", 'Charlton', 'CASTRAN',\n",
       "       'Wood', 'Haughton', 'William', 'Coventry', 'Buckingham',\n",
       "       'Nardella', 'Reach', 'Walsh', 'Karen', 'LJ', 'Direct',\n",
       "       'Fletchers/Fletchers', 'Besser', 'Johnston', 'Redina', 'Clairmont',\n",
       "       'Changing', 'Lucas', 'Elite', 'Buxton/Find', 'W.B.', 'Leased',\n",
       "       'Win', 'New', 'Geoff', 'hockingstuart/Barry', 'Blue', 'Steveway',\n",
       "       'Dixon', 'Parkinson', 'VICPROP', 'Meadows', 'Allan', 'S&L',\n",
       "       'Crane', 'Calder', 'Homes', 'Zahn', 'Mason', 'David', 'Luxe',\n",
       "       'Prowse', 'Ken', 'iOne', 'hockingstuart/Village', 'Iconek',\n",
       "       'Luxton', 'Hooper', 'Oak', 'White', 'Weston', 'Reed', 'Oriental',\n",
       "       'Craig', 'Max', 'Rosin', 'Steller', 'Real', 'Hall', 'Icon',\n",
       "       'buyMyplace', 'Collings', 'WHITEFOX', 'Metro', '@Realty',\n",
       "       'Hoskins', 'Gardiner', 'McLennan', 'Triwest', 'PRDNationwide',\n",
       "       'Only', 'Leyton', 'Obrien', 'Maitland', 'Reliance', 'Rounds',\n",
       "       'Millership', 'iSell', 'L', 'Ash', 'Jim', 'Ace', 'Flannagan',\n",
       "       'JRW', 'Carter', 'M.J', 'iProperty', 'Hayeswinckle', 'Schroeder',\n",
       "       'iHomes', 'VICProp', 'REMAX', 'Space', 'Victory', 'Aumeca',\n",
       "       'Smart', 'Mindacom', 'Ryder', 'Asset', 'LLC', 'Sell', 'Mitchell',\n",
       "       'U', 'Nicholas', 'Keatings', 'Aquire', 'Conquest', 'Rombotis',\n",
       "       'Prime', 'Donovan', 'Community', 'Free', 'Veitch', 'Peake',\n",
       "       'Ristic', 'Upper', 'Daniel', 'Xynergy', 'VicHomes', 'Westside',\n",
       "       'Leeburn', 'TRUE', 'Leading', 'Bullen', 'Better', 'Langwell',\n",
       "       'Kaye', 'Nicholls', 'Bowman', 'Boutique', 'Just', 'Home',\n",
       "       'McNaughton', 'Black', 'The', 'Open', 'Darras', 'Roger', 'Follett',\n",
       "       'Le', 'McEwing', 'Sandhurst', 'Avion', 'Boran',\n",
       "       'hockingstuart/hockingstuart', 'Area', 'MJ', 'Eric', 'SN', 'P',\n",
       "       'PRD', 'Bombay', 'Quinta', 'T', 'Rexhepi', 'Point', 'LJH', 'Munn',\n",
       "       'Justin', 'Blackbird', 'Sweeney/Burnham', 'H', 'Branon', 'Alex',\n",
       "       'Benchmark', 'Gellibrand', 'hockingstuart/Harcourts', 'Charter',\n",
       "       'Surreal', 'Upside', 'OBrien', 'Meallin', 'JY', 'Mark', 'For',\n",
       "       'Leaders', 'Shape', 'McGrath/Langwell', 'Benlor', 'Burns',\n",
       "       'K.R.Peters', 'Buxton/Buxton', 'Buxton/Marshall', 'CarlinSmith',\n",
       "       'hockingstuart/Sweeney', 'People', 'hockingstuart/Biggin', 'Mega',\n",
       "       'Skad', 'Wyndham', 'Create', 'Janice', 'G&H', 'Commercial', 'PSP',\n",
       "       'Unity', 'hockingstuart/Marshall', 'McGrath/First', 'Spencer',\n",
       "       'Sanctuary'], dtype=object)"
      ]
     },
     "execution_count": 50,
     "metadata": {},
     "output_type": "execute_result"
    }
   ],
   "source": [
    "data['SellerG'].unique()"
   ]
  },
  {
   "cell_type": "code",
   "execution_count": 51,
   "id": "ee72bfb0",
   "metadata": {},
   "outputs": [
    {
     "data": {
      "text/plain": [
       "array(['Yarra City Council', 'Moonee Valley City Council',\n",
       "       'Port Phillip City Council', 'Darebin City Council',\n",
       "       'Hobsons Bay City Council', 'Stonnington City Council',\n",
       "       'Boroondara City Council', 'Monash City Council',\n",
       "       'Glen Eira City Council', 'Whitehorse City Council',\n",
       "       'Maribyrnong City Council', 'Bayside City Council',\n",
       "       'Moreland City Council', 'Manningham City Council',\n",
       "       'Melbourne City Council', 'Banyule City Council',\n",
       "       'Brimbank City Council', 'Kingston City Council',\n",
       "       'Hume City Council', 'Knox City Council', 'Maroondah City Council',\n",
       "       'Casey City Council', 'Melton City Council',\n",
       "       'Greater Dandenong City Council', 'Nillumbik Shire Council',\n",
       "       'Whittlesea City Council', 'Frankston City Council',\n",
       "       'Macedon Ranges Shire Council', 'Yarra Ranges Shire Council',\n",
       "       'Wyndham City Council', 'Cardinia Shire Council',\n",
       "       'Moorabool Shire Council', 'Mitchell Shire Council'], dtype=object)"
      ]
     },
     "execution_count": 51,
     "metadata": {},
     "output_type": "execute_result"
    }
   ],
   "source": [
    "data['CouncilArea'].unique()"
   ]
  },
  {
   "cell_type": "code",
   "execution_count": 52,
   "id": "5bd20007",
   "metadata": {},
   "outputs": [
    {
     "data": {
      "text/plain": [
       "array(['Northern Metropolitan', 'Western Metropolitan',\n",
       "       'Southern Metropolitan', 'Eastern Metropolitan',\n",
       "       'South-Eastern Metropolitan', 'Eastern Victoria',\n",
       "       'Northern Victoria', 'Western Victoria'], dtype=object)"
      ]
     },
     "execution_count": 52,
     "metadata": {},
     "output_type": "execute_result"
    }
   ],
   "source": [
    "data['Regionname'].unique()"
   ]
  },
  {
   "cell_type": "code",
   "execution_count": 53,
   "id": "cbd2a029",
   "metadata": {},
   "outputs": [],
   "source": [
    "data = pd.get_dummies(data, drop_first=True)"
   ]
  },
  {
   "cell_type": "code",
   "execution_count": 54,
   "id": "5ee7b704",
   "metadata": {},
   "outputs": [
    {
     "data": {
      "text/plain": [
       "(27244, 745)"
      ]
     },
     "execution_count": 54,
     "metadata": {},
     "output_type": "execute_result"
    }
   ],
   "source": [
    "data.shape"
   ]
  },
  {
   "cell_type": "code",
   "execution_count": 55,
   "id": "38507d1e",
   "metadata": {},
   "outputs": [
    {
     "data": {
      "text/html": [
       "<div>\n",
       "<style scoped>\n",
       "    .dataframe tbody tr th:only-of-type {\n",
       "        vertical-align: middle;\n",
       "    }\n",
       "\n",
       "    .dataframe tbody tr th {\n",
       "        vertical-align: top;\n",
       "    }\n",
       "\n",
       "    .dataframe thead th {\n",
       "        text-align: right;\n",
       "    }\n",
       "</style>\n",
       "<table border=\"1\" class=\"dataframe\">\n",
       "  <thead>\n",
       "    <tr style=\"text-align: right;\">\n",
       "      <th></th>\n",
       "      <th>Rooms</th>\n",
       "      <th>Price</th>\n",
       "      <th>Distance</th>\n",
       "      <th>Bedroom2</th>\n",
       "      <th>Bathroom</th>\n",
       "      <th>Car</th>\n",
       "      <th>Landsize</th>\n",
       "      <th>BuildingArea</th>\n",
       "      <th>Propertycount</th>\n",
       "      <th>Suburb_Aberfeldie</th>\n",
       "      <th>...</th>\n",
       "      <th>CouncilArea_Wyndham City Council</th>\n",
       "      <th>CouncilArea_Yarra City Council</th>\n",
       "      <th>CouncilArea_Yarra Ranges Shire Council</th>\n",
       "      <th>Regionname_Eastern Victoria</th>\n",
       "      <th>Regionname_Northern Metropolitan</th>\n",
       "      <th>Regionname_Northern Victoria</th>\n",
       "      <th>Regionname_South-Eastern Metropolitan</th>\n",
       "      <th>Regionname_Southern Metropolitan</th>\n",
       "      <th>Regionname_Western Metropolitan</th>\n",
       "      <th>Regionname_Western Victoria</th>\n",
       "    </tr>\n",
       "  </thead>\n",
       "  <tbody>\n",
       "    <tr>\n",
       "      <th>1</th>\n",
       "      <td>2</td>\n",
       "      <td>1480000.0</td>\n",
       "      <td>2.5</td>\n",
       "      <td>2.0</td>\n",
       "      <td>1.0</td>\n",
       "      <td>1.0</td>\n",
       "      <td>202.0</td>\n",
       "      <td>593.598993</td>\n",
       "      <td>4019.0</td>\n",
       "      <td>False</td>\n",
       "      <td>...</td>\n",
       "      <td>False</td>\n",
       "      <td>True</td>\n",
       "      <td>False</td>\n",
       "      <td>False</td>\n",
       "      <td>True</td>\n",
       "      <td>False</td>\n",
       "      <td>False</td>\n",
       "      <td>False</td>\n",
       "      <td>False</td>\n",
       "      <td>False</td>\n",
       "    </tr>\n",
       "    <tr>\n",
       "      <th>2</th>\n",
       "      <td>2</td>\n",
       "      <td>1035000.0</td>\n",
       "      <td>2.5</td>\n",
       "      <td>2.0</td>\n",
       "      <td>1.0</td>\n",
       "      <td>0.0</td>\n",
       "      <td>156.0</td>\n",
       "      <td>79.000000</td>\n",
       "      <td>4019.0</td>\n",
       "      <td>False</td>\n",
       "      <td>...</td>\n",
       "      <td>False</td>\n",
       "      <td>True</td>\n",
       "      <td>False</td>\n",
       "      <td>False</td>\n",
       "      <td>True</td>\n",
       "      <td>False</td>\n",
       "      <td>False</td>\n",
       "      <td>False</td>\n",
       "      <td>False</td>\n",
       "      <td>False</td>\n",
       "    </tr>\n",
       "    <tr>\n",
       "      <th>4</th>\n",
       "      <td>3</td>\n",
       "      <td>1465000.0</td>\n",
       "      <td>2.5</td>\n",
       "      <td>3.0</td>\n",
       "      <td>2.0</td>\n",
       "      <td>0.0</td>\n",
       "      <td>134.0</td>\n",
       "      <td>150.000000</td>\n",
       "      <td>4019.0</td>\n",
       "      <td>False</td>\n",
       "      <td>...</td>\n",
       "      <td>False</td>\n",
       "      <td>True</td>\n",
       "      <td>False</td>\n",
       "      <td>False</td>\n",
       "      <td>True</td>\n",
       "      <td>False</td>\n",
       "      <td>False</td>\n",
       "      <td>False</td>\n",
       "      <td>False</td>\n",
       "      <td>False</td>\n",
       "    </tr>\n",
       "    <tr>\n",
       "      <th>5</th>\n",
       "      <td>3</td>\n",
       "      <td>850000.0</td>\n",
       "      <td>2.5</td>\n",
       "      <td>3.0</td>\n",
       "      <td>2.0</td>\n",
       "      <td>1.0</td>\n",
       "      <td>94.0</td>\n",
       "      <td>593.598993</td>\n",
       "      <td>4019.0</td>\n",
       "      <td>False</td>\n",
       "      <td>...</td>\n",
       "      <td>False</td>\n",
       "      <td>True</td>\n",
       "      <td>False</td>\n",
       "      <td>False</td>\n",
       "      <td>True</td>\n",
       "      <td>False</td>\n",
       "      <td>False</td>\n",
       "      <td>False</td>\n",
       "      <td>False</td>\n",
       "      <td>False</td>\n",
       "    </tr>\n",
       "    <tr>\n",
       "      <th>6</th>\n",
       "      <td>4</td>\n",
       "      <td>1600000.0</td>\n",
       "      <td>2.5</td>\n",
       "      <td>3.0</td>\n",
       "      <td>1.0</td>\n",
       "      <td>2.0</td>\n",
       "      <td>120.0</td>\n",
       "      <td>142.000000</td>\n",
       "      <td>4019.0</td>\n",
       "      <td>False</td>\n",
       "      <td>...</td>\n",
       "      <td>False</td>\n",
       "      <td>True</td>\n",
       "      <td>False</td>\n",
       "      <td>False</td>\n",
       "      <td>True</td>\n",
       "      <td>False</td>\n",
       "      <td>False</td>\n",
       "      <td>False</td>\n",
       "      <td>False</td>\n",
       "      <td>False</td>\n",
       "    </tr>\n",
       "  </tbody>\n",
       "</table>\n",
       "<p>5 rows × 745 columns</p>\n",
       "</div>"
      ],
      "text/plain": [
       "   Rooms      Price  Distance  Bedroom2  Bathroom  Car  Landsize  \\\n",
       "1      2  1480000.0       2.5       2.0       1.0  1.0     202.0   \n",
       "2      2  1035000.0       2.5       2.0       1.0  0.0     156.0   \n",
       "4      3  1465000.0       2.5       3.0       2.0  0.0     134.0   \n",
       "5      3   850000.0       2.5       3.0       2.0  1.0      94.0   \n",
       "6      4  1600000.0       2.5       3.0       1.0  2.0     120.0   \n",
       "\n",
       "   BuildingArea  Propertycount  Suburb_Aberfeldie  ...  \\\n",
       "1    593.598993         4019.0              False  ...   \n",
       "2     79.000000         4019.0              False  ...   \n",
       "4    150.000000         4019.0              False  ...   \n",
       "5    593.598993         4019.0              False  ...   \n",
       "6    142.000000         4019.0              False  ...   \n",
       "\n",
       "   CouncilArea_Wyndham City Council  CouncilArea_Yarra City Council  \\\n",
       "1                             False                            True   \n",
       "2                             False                            True   \n",
       "4                             False                            True   \n",
       "5                             False                            True   \n",
       "6                             False                            True   \n",
       "\n",
       "   CouncilArea_Yarra Ranges Shire Council  Regionname_Eastern Victoria  \\\n",
       "1                                   False                        False   \n",
       "2                                   False                        False   \n",
       "4                                   False                        False   \n",
       "5                                   False                        False   \n",
       "6                                   False                        False   \n",
       "\n",
       "   Regionname_Northern Metropolitan  Regionname_Northern Victoria  \\\n",
       "1                              True                         False   \n",
       "2                              True                         False   \n",
       "4                              True                         False   \n",
       "5                              True                         False   \n",
       "6                              True                         False   \n",
       "\n",
       "   Regionname_South-Eastern Metropolitan  Regionname_Southern Metropolitan  \\\n",
       "1                                  False                             False   \n",
       "2                                  False                             False   \n",
       "4                                  False                             False   \n",
       "5                                  False                             False   \n",
       "6                                  False                             False   \n",
       "\n",
       "   Regionname_Western Metropolitan  Regionname_Western Victoria  \n",
       "1                            False                        False  \n",
       "2                            False                        False  \n",
       "4                            False                        False  \n",
       "5                            False                        False  \n",
       "6                            False                        False  \n",
       "\n",
       "[5 rows x 745 columns]"
      ]
     },
     "execution_count": 55,
     "metadata": {},
     "output_type": "execute_result"
    }
   ],
   "source": [
    "data.head()"
   ]
  },
  {
   "cell_type": "markdown",
   "id": "16d91929",
   "metadata": {},
   "source": [
    "### Q. Create the target data and feature data where target data is price "
   ]
  },
  {
   "cell_type": "code",
   "execution_count": 56,
   "id": "85b5fd25",
   "metadata": {},
   "outputs": [],
   "source": [
    "x=data.drop([\"Price\"],axis=1)"
   ]
  },
  {
   "cell_type": "code",
   "execution_count": 57,
   "id": "a0511376",
   "metadata": {},
   "outputs": [],
   "source": [
    "y=data[[\"Price\"]]"
   ]
  },
  {
   "cell_type": "markdown",
   "id": "a81af77d",
   "metadata": {},
   "source": [
    "### Q. Create a linear regression model for target and feature data "
   ]
  },
  {
   "cell_type": "code",
   "execution_count": 58,
   "id": "44a0a12e",
   "metadata": {},
   "outputs": [],
   "source": [
    "from sklearn.model_selection import train_test_split"
   ]
  },
  {
   "cell_type": "code",
   "execution_count": 59,
   "id": "ba70203a",
   "metadata": {},
   "outputs": [],
   "source": [
    "x_train,x_test,y_train,y_test = train_test_split(x,y,train_size=0.8,random_state=0)"
   ]
  },
  {
   "cell_type": "code",
   "execution_count": 60,
   "id": "1f7b99e6",
   "metadata": {},
   "outputs": [],
   "source": [
    "from sklearn.linear_model import LinearRegression"
   ]
  },
  {
   "cell_type": "code",
   "execution_count": 61,
   "id": "10e204d2",
   "metadata": {},
   "outputs": [],
   "source": [
    "model=LinearRegression()"
   ]
  },
  {
   "cell_type": "code",
   "execution_count": 62,
   "id": "7d791c1f",
   "metadata": {},
   "outputs": [],
   "source": [
    "data=model.fit(x_train,y_train)"
   ]
  },
  {
   "cell_type": "markdown",
   "id": "e9d50dcc",
   "metadata": {},
   "source": [
    "### Q. Check if the model is overfitting or underfitting or it is accurate "
   ]
  },
  {
   "cell_type": "code",
   "execution_count": 63,
   "id": "e61f359e",
   "metadata": {},
   "outputs": [
    {
     "data": {
      "text/plain": [
       "0.6852386263832466"
      ]
     },
     "execution_count": 63,
     "metadata": {},
     "output_type": "execute_result"
    }
   ],
   "source": [
    "model.score(x_train,y_train)"
   ]
  },
  {
   "cell_type": "code",
   "execution_count": 64,
   "id": "c558e1d2",
   "metadata": {},
   "outputs": [
    {
     "data": {
      "text/plain": [
       "0.6467626329077514"
      ]
     },
     "execution_count": 64,
     "metadata": {},
     "output_type": "execute_result"
    }
   ],
   "source": [
    "model.score(x_test,y_test)"
   ]
  },
  {
   "cell_type": "markdown",
   "id": "bf6711cc",
   "metadata": {},
   "source": [
    "### Q.  If the model is overfitting then apply ridge and lasso regression algorithms "
   ]
  },
  {
   "cell_type": "code",
   "execution_count": 77,
   "id": "318ca5f2",
   "metadata": {},
   "outputs": [],
   "source": [
    "from sklearn.linear_model import Ridge,Lasso"
   ]
  },
  {
   "cell_type": "code",
   "execution_count": 79,
   "id": "faa07c52",
   "metadata": {
    "scrolled": true
   },
   "outputs": [],
   "source": [
    "ridge_model= Ridge(alpha=50, max_iter=100)"
   ]
  },
  {
   "cell_type": "code",
   "execution_count": 80,
   "id": "cdb35f4a",
   "metadata": {},
   "outputs": [
    {
     "data": {
      "text/html": [
       "<style>#sk-container-id-3 {color: black;}#sk-container-id-3 pre{padding: 0;}#sk-container-id-3 div.sk-toggleable {background-color: white;}#sk-container-id-3 label.sk-toggleable__label {cursor: pointer;display: block;width: 100%;margin-bottom: 0;padding: 0.3em;box-sizing: border-box;text-align: center;}#sk-container-id-3 label.sk-toggleable__label-arrow:before {content: \"▸\";float: left;margin-right: 0.25em;color: #696969;}#sk-container-id-3 label.sk-toggleable__label-arrow:hover:before {color: black;}#sk-container-id-3 div.sk-estimator:hover label.sk-toggleable__label-arrow:before {color: black;}#sk-container-id-3 div.sk-toggleable__content {max-height: 0;max-width: 0;overflow: hidden;text-align: left;background-color: #f0f8ff;}#sk-container-id-3 div.sk-toggleable__content pre {margin: 0.2em;color: black;border-radius: 0.25em;background-color: #f0f8ff;}#sk-container-id-3 input.sk-toggleable__control:checked~div.sk-toggleable__content {max-height: 200px;max-width: 100%;overflow: auto;}#sk-container-id-3 input.sk-toggleable__control:checked~label.sk-toggleable__label-arrow:before {content: \"▾\";}#sk-container-id-3 div.sk-estimator input.sk-toggleable__control:checked~label.sk-toggleable__label {background-color: #d4ebff;}#sk-container-id-3 div.sk-label input.sk-toggleable__control:checked~label.sk-toggleable__label {background-color: #d4ebff;}#sk-container-id-3 input.sk-hidden--visually {border: 0;clip: rect(1px 1px 1px 1px);clip: rect(1px, 1px, 1px, 1px);height: 1px;margin: -1px;overflow: hidden;padding: 0;position: absolute;width: 1px;}#sk-container-id-3 div.sk-estimator {font-family: monospace;background-color: #f0f8ff;border: 1px dotted black;border-radius: 0.25em;box-sizing: border-box;margin-bottom: 0.5em;}#sk-container-id-3 div.sk-estimator:hover {background-color: #d4ebff;}#sk-container-id-3 div.sk-parallel-item::after {content: \"\";width: 100%;border-bottom: 1px solid gray;flex-grow: 1;}#sk-container-id-3 div.sk-label:hover label.sk-toggleable__label {background-color: #d4ebff;}#sk-container-id-3 div.sk-serial::before {content: \"\";position: absolute;border-left: 1px solid gray;box-sizing: border-box;top: 0;bottom: 0;left: 50%;z-index: 0;}#sk-container-id-3 div.sk-serial {display: flex;flex-direction: column;align-items: center;background-color: white;padding-right: 0.2em;padding-left: 0.2em;position: relative;}#sk-container-id-3 div.sk-item {position: relative;z-index: 1;}#sk-container-id-3 div.sk-parallel {display: flex;align-items: stretch;justify-content: center;background-color: white;position: relative;}#sk-container-id-3 div.sk-item::before, #sk-container-id-3 div.sk-parallel-item::before {content: \"\";position: absolute;border-left: 1px solid gray;box-sizing: border-box;top: 0;bottom: 0;left: 50%;z-index: -1;}#sk-container-id-3 div.sk-parallel-item {display: flex;flex-direction: column;z-index: 1;position: relative;background-color: white;}#sk-container-id-3 div.sk-parallel-item:first-child::after {align-self: flex-end;width: 50%;}#sk-container-id-3 div.sk-parallel-item:last-child::after {align-self: flex-start;width: 50%;}#sk-container-id-3 div.sk-parallel-item:only-child::after {width: 0;}#sk-container-id-3 div.sk-dashed-wrapped {border: 1px dashed gray;margin: 0 0.4em 0.5em 0.4em;box-sizing: border-box;padding-bottom: 0.4em;background-color: white;}#sk-container-id-3 div.sk-label label {font-family: monospace;font-weight: bold;display: inline-block;line-height: 1.2em;}#sk-container-id-3 div.sk-label-container {text-align: center;}#sk-container-id-3 div.sk-container {/* jupyter's `normalize.less` sets `[hidden] { display: none; }` but bootstrap.min.css set `[hidden] { display: none !important; }` so we also need the `!important` here to be able to override the default hidden behavior on the sphinx rendered scikit-learn.org. See: https://github.com/scikit-learn/scikit-learn/issues/21755 */display: inline-block !important;position: relative;}#sk-container-id-3 div.sk-text-repr-fallback {display: none;}</style><div id=\"sk-container-id-3\" class=\"sk-top-container\"><div class=\"sk-text-repr-fallback\"><pre>Ridge(alpha=50, max_iter=100)</pre><b>In a Jupyter environment, please rerun this cell to show the HTML representation or trust the notebook. <br />On GitHub, the HTML representation is unable to render, please try loading this page with nbviewer.org.</b></div><div class=\"sk-container\" hidden><div class=\"sk-item\"><div class=\"sk-estimator sk-toggleable\"><input class=\"sk-toggleable__control sk-hidden--visually\" id=\"sk-estimator-id-3\" type=\"checkbox\" checked><label for=\"sk-estimator-id-3\" class=\"sk-toggleable__label sk-toggleable__label-arrow\">Ridge</label><div class=\"sk-toggleable__content\"><pre>Ridge(alpha=50, max_iter=100)</pre></div></div></div></div></div>"
      ],
      "text/plain": [
       "Ridge(alpha=50, max_iter=100)"
      ]
     },
     "execution_count": 80,
     "metadata": {},
     "output_type": "execute_result"
    }
   ],
   "source": [
    "ridge_model.fit(x_train,y_train)"
   ]
  },
  {
   "cell_type": "code",
   "execution_count": 81,
   "id": "e383fc24",
   "metadata": {},
   "outputs": [
    {
     "data": {
      "text/plain": [
       "0.669395496738054"
      ]
     },
     "execution_count": 81,
     "metadata": {},
     "output_type": "execute_result"
    }
   ],
   "source": [
    "ridge_model.score(x_train, y_train)"
   ]
  },
  {
   "cell_type": "code",
   "execution_count": 83,
   "id": "d770870f",
   "metadata": {},
   "outputs": [
    {
     "data": {
      "text/plain": [
       "0.6440482570736712"
      ]
     },
     "execution_count": 83,
     "metadata": {},
     "output_type": "execute_result"
    }
   ],
   "source": [
    "ridge_model.score(x_test, y_test)"
   ]
  },
  {
   "cell_type": "code",
   "execution_count": 84,
   "id": "2ba4a748",
   "metadata": {},
   "outputs": [],
   "source": [
    "lasso_model = Lasso(alpha=50, max_iter=100)"
   ]
  },
  {
   "cell_type": "code",
   "execution_count": 85,
   "id": "de6cdbfe",
   "metadata": {},
   "outputs": [
    {
     "name": "stderr",
     "output_type": "stream",
     "text": [
      "C:\\ProgramData\\anaconda3\\Lib\\site-packages\\sklearn\\linear_model\\_coordinate_descent.py:628: ConvergenceWarning: Objective did not converge. You might want to increase the number of iterations, check the scale of the features or consider increasing regularisation. Duality gap: 1.477e+15, tolerance: 8.993e+11\n",
      "  model = cd_fast.enet_coordinate_descent(\n"
     ]
    },
    {
     "data": {
      "text/html": [
       "<style>#sk-container-id-4 {color: black;}#sk-container-id-4 pre{padding: 0;}#sk-container-id-4 div.sk-toggleable {background-color: white;}#sk-container-id-4 label.sk-toggleable__label {cursor: pointer;display: block;width: 100%;margin-bottom: 0;padding: 0.3em;box-sizing: border-box;text-align: center;}#sk-container-id-4 label.sk-toggleable__label-arrow:before {content: \"▸\";float: left;margin-right: 0.25em;color: #696969;}#sk-container-id-4 label.sk-toggleable__label-arrow:hover:before {color: black;}#sk-container-id-4 div.sk-estimator:hover label.sk-toggleable__label-arrow:before {color: black;}#sk-container-id-4 div.sk-toggleable__content {max-height: 0;max-width: 0;overflow: hidden;text-align: left;background-color: #f0f8ff;}#sk-container-id-4 div.sk-toggleable__content pre {margin: 0.2em;color: black;border-radius: 0.25em;background-color: #f0f8ff;}#sk-container-id-4 input.sk-toggleable__control:checked~div.sk-toggleable__content {max-height: 200px;max-width: 100%;overflow: auto;}#sk-container-id-4 input.sk-toggleable__control:checked~label.sk-toggleable__label-arrow:before {content: \"▾\";}#sk-container-id-4 div.sk-estimator input.sk-toggleable__control:checked~label.sk-toggleable__label {background-color: #d4ebff;}#sk-container-id-4 div.sk-label input.sk-toggleable__control:checked~label.sk-toggleable__label {background-color: #d4ebff;}#sk-container-id-4 input.sk-hidden--visually {border: 0;clip: rect(1px 1px 1px 1px);clip: rect(1px, 1px, 1px, 1px);height: 1px;margin: -1px;overflow: hidden;padding: 0;position: absolute;width: 1px;}#sk-container-id-4 div.sk-estimator {font-family: monospace;background-color: #f0f8ff;border: 1px dotted black;border-radius: 0.25em;box-sizing: border-box;margin-bottom: 0.5em;}#sk-container-id-4 div.sk-estimator:hover {background-color: #d4ebff;}#sk-container-id-4 div.sk-parallel-item::after {content: \"\";width: 100%;border-bottom: 1px solid gray;flex-grow: 1;}#sk-container-id-4 div.sk-label:hover label.sk-toggleable__label {background-color: #d4ebff;}#sk-container-id-4 div.sk-serial::before {content: \"\";position: absolute;border-left: 1px solid gray;box-sizing: border-box;top: 0;bottom: 0;left: 50%;z-index: 0;}#sk-container-id-4 div.sk-serial {display: flex;flex-direction: column;align-items: center;background-color: white;padding-right: 0.2em;padding-left: 0.2em;position: relative;}#sk-container-id-4 div.sk-item {position: relative;z-index: 1;}#sk-container-id-4 div.sk-parallel {display: flex;align-items: stretch;justify-content: center;background-color: white;position: relative;}#sk-container-id-4 div.sk-item::before, #sk-container-id-4 div.sk-parallel-item::before {content: \"\";position: absolute;border-left: 1px solid gray;box-sizing: border-box;top: 0;bottom: 0;left: 50%;z-index: -1;}#sk-container-id-4 div.sk-parallel-item {display: flex;flex-direction: column;z-index: 1;position: relative;background-color: white;}#sk-container-id-4 div.sk-parallel-item:first-child::after {align-self: flex-end;width: 50%;}#sk-container-id-4 div.sk-parallel-item:last-child::after {align-self: flex-start;width: 50%;}#sk-container-id-4 div.sk-parallel-item:only-child::after {width: 0;}#sk-container-id-4 div.sk-dashed-wrapped {border: 1px dashed gray;margin: 0 0.4em 0.5em 0.4em;box-sizing: border-box;padding-bottom: 0.4em;background-color: white;}#sk-container-id-4 div.sk-label label {font-family: monospace;font-weight: bold;display: inline-block;line-height: 1.2em;}#sk-container-id-4 div.sk-label-container {text-align: center;}#sk-container-id-4 div.sk-container {/* jupyter's `normalize.less` sets `[hidden] { display: none; }` but bootstrap.min.css set `[hidden] { display: none !important; }` so we also need the `!important` here to be able to override the default hidden behavior on the sphinx rendered scikit-learn.org. See: https://github.com/scikit-learn/scikit-learn/issues/21755 */display: inline-block !important;position: relative;}#sk-container-id-4 div.sk-text-repr-fallback {display: none;}</style><div id=\"sk-container-id-4\" class=\"sk-top-container\"><div class=\"sk-text-repr-fallback\"><pre>Lasso(alpha=50, max_iter=100)</pre><b>In a Jupyter environment, please rerun this cell to show the HTML representation or trust the notebook. <br />On GitHub, the HTML representation is unable to render, please try loading this page with nbviewer.org.</b></div><div class=\"sk-container\" hidden><div class=\"sk-item\"><div class=\"sk-estimator sk-toggleable\"><input class=\"sk-toggleable__control sk-hidden--visually\" id=\"sk-estimator-id-4\" type=\"checkbox\" checked><label for=\"sk-estimator-id-4\" class=\"sk-toggleable__label sk-toggleable__label-arrow\">Lasso</label><div class=\"sk-toggleable__content\"><pre>Lasso(alpha=50, max_iter=100)</pre></div></div></div></div></div>"
      ],
      "text/plain": [
       "Lasso(alpha=50, max_iter=100)"
      ]
     },
     "execution_count": 85,
     "metadata": {},
     "output_type": "execute_result"
    }
   ],
   "source": [
    "lasso_model.fit(x_train,y_train)"
   ]
  },
  {
   "cell_type": "code",
   "execution_count": 86,
   "id": "cc7eee84",
   "metadata": {},
   "outputs": [
    {
     "data": {
      "text/plain": [
       "0.6812010863868274"
      ]
     },
     "execution_count": 86,
     "metadata": {},
     "output_type": "execute_result"
    }
   ],
   "source": [
    "lasso_model.score(x_train, y_train)"
   ]
  },
  {
   "cell_type": "code",
   "execution_count": 87,
   "id": "a1ba9daf",
   "metadata": {},
   "outputs": [
    {
     "data": {
      "text/plain": [
       "0.6489961453752404"
      ]
     },
     "execution_count": 87,
     "metadata": {},
     "output_type": "execute_result"
    }
   ],
   "source": [
    "lasso_model.score(x_test, y_test)"
   ]
  },
  {
   "cell_type": "code",
   "execution_count": null,
   "id": "909cc05e",
   "metadata": {},
   "outputs": [],
   "source": []
  }
 ],
 "metadata": {
  "kernelspec": {
   "display_name": "Python 3 (ipykernel)",
   "language": "python",
   "name": "python3"
  },
  "language_info": {
   "codemirror_mode": {
    "name": "ipython",
    "version": 3
   },
   "file_extension": ".py",
   "mimetype": "text/x-python",
   "name": "python",
   "nbconvert_exporter": "python",
   "pygments_lexer": "ipython3",
   "version": "3.11.5"
  }
 },
 "nbformat": 4,
 "nbformat_minor": 5
}
